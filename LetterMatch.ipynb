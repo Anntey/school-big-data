{
 "cells": [
  {
   "cell_type": "code",
   "execution_count": 3,
   "metadata": {},
   "outputs": [
    {
     "name": "stdout",
     "output_type": "stream",
     "text": [
      "0/1635\n"
     ]
    },
    {
     "data": {
      "image/png": "[encoded data removed]",
      "text/plain": [
       "<Figure size 72x72 with 1 Axes>"
      ]
     },
     "metadata": {
      "needs_background": "light"
     },
     "output_type": "display_data"
    },
    {
     "name": "stdout",
     "output_type": "stream",
     "text": [
      "200/1635\n"
     ]
    },
    {
     "data": {
      "image/png": "[encoded data removed]",
      "text/plain": [
       "<Figure size 72x72 with 1 Axes>"
      ]
     },
     "metadata": {
      "needs_background": "light"
     },
     "output_type": "display_data"
    },
    {
     "name": "stdout",
     "output_type": "stream",
     "text": [
      "400/1635\n"
     ]
    },
    {
     "data": {
      "image/png": "[encoded data removed]",
      "text/plain": [
       "<Figure size 72x72 with 1 Axes>"
      ]
     },
     "metadata": {
      "needs_background": "light"
     },
     "output_type": "display_data"
    },
    {
     "name": "stdout",
     "output_type": "stream",
     "text": [
      "600/1635\n"
     ]
    },
    {
     "data": {
      "image/png": "[encoded data removed]",
      "text/plain": [
       "<Figure size 72x72 with 1 Axes>"
      ]
     },
     "metadata": {
      "needs_background": "light"
     },
     "output_type": "display_data"
    },
    {
     "name": "stdout",
     "output_type": "stream",
     "text": [
      "800/1635\n"
     ]
    },
    {
     "data": {
      "image/png": "[encoded data removed]",
      "text/plain": [
       "<Figure size 72x72 with 1 Axes>"
      ]
     },
     "metadata": {
      "needs_background": "light"
     },
     "output_type": "display_data"
    },
    {
     "name": "stdout",
     "output_type": "stream",
     "text": [
      "1000/1635\n"
     ]
    },
    {
     "data": {
      "image/png": "[encoded data removed]",
      "text/plain": [
       "<Figure size 72x72 with 1 Axes>"
      ]
     },
     "metadata": {
      "needs_background": "light"
     },
     "output_type": "display_data"
    },
    {
     "name": "stdout",
     "output_type": "stream",
     "text": [
      "1200/1635\n"
     ]
    },
    {
     "data": {
      "image/png": "[encoded data removed]",
      "text/plain": [
       "<Figure size 72x72 with 1 Axes>"
      ]
     },
     "metadata": {
      "needs_background": "light"
     },
     "output_type": "display_data"
    },
    {
     "name": "stdout",
     "output_type": "stream",
     "text": [
      "1400/1635\n"
     ]
    },
    {
     "data": {
      "image/png": "[encoded data removed]",
      "text/plain": [
       "<Figure size 72x72 with 1 Axes>"
      ]
     },
     "metadata": {
      "needs_background": "light"
     },
     "output_type": "display_data"
    },
    {
     "name": "stdout",
     "output_type": "stream",
     "text": [
      "1600/1635\n"
     ]
    },
    {
     "data": {
      "image/png": "[encoded data removed]",
      "text/plain": [
       "<Figure size 72x72 with 1 Axes>"
      ]
     },
     "metadata": {
      "needs_background": "light"
     },
     "output_type": "display_data"
    }
   ],
   "source": [
    "from os.path import basename \n",
    "from glob import glob\n",
    "import numpy as np\n",
    "import matplotlib.pyplot as plt\n",
    "from skimage.transform import resize\n",
    "from skimage.filters import gaussian, threshold_otsu\n",
    "from skimage.restoration import denoise_tv_chambolle\n",
    "from skimage.color import rgb2gray\n",
    "from skimage.exposure import rescale_intensity\n",
    "import warnings\n",
    "warnings.filterwarnings(\"ignore\")\n",
    "\n",
    "img_paths = glob(\"./input/*.png\")\n",
    "\n",
    "keys = [\"A\", \"B\", \"C\", \"D\", \"E\", \"F\", \"G\", \"H\", \"I\", \"J\", \"K\", \"L\", \"M\",\n",
    "        \"N\", \"O\", \"P\", \"Q\", \"R\", \"S\", \"T\", \"U\", \"V\", \"W\", \"X\", \"Y\", \"Z\"]\n",
    "values = list(range(len(keys)))\n",
    "label_dict = dict(zip(keys, values))\n",
    "\n",
    "imgs = []\n",
    "labels = []\n",
    "\n",
    "for i, path in enumerate(img_paths):\n",
    "    # ------------ 1 ------------\n",
    "    img = plt.imread(path)\n",
    "    # ------------ 2 ------------\n",
    "    img = denoise_tv_chambolle(img, weight = 0.1, multichannel = True, n_iter_max = 10)\n",
    "    # ------------ 3 ------------\n",
    "    img = rgb2gray(img)\n",
    "    # ------------ 4 ------------\n",
    "    try:\n",
    "        thresh = threshold_otsu(img)\n",
    "    except:\n",
    "        thresh = 0.5\n",
    "    img = (img > thresh).astype(int)\n",
    "    # ------------ 5 & 6------------\n",
    "    black_idx = np.argwhere(img == 0)\n",
    "    x_start = min(black_idx[:, 1])\n",
    "    x_end = max(black_idx[:, 1])\n",
    "    y_start = min(black_idx[:, 0]) \n",
    "    y_end = max(black_idx[:, 0])\n",
    "    h = np.abs(y_start - y_end)\n",
    "    w = np.abs(x_start - x_end)\n",
    "    new_hw = max(h, w)\n",
    "    if new_hw == h:\n",
    "        padding = np.abs(w - new_hw) // 2\n",
    "        x_start = max(0, x_start - padding)\n",
    "        x_end = min(img.shape[1], x_end + padding)\n",
    "        img = img[y_start:y_end, x_start:x_end]\n",
    "    else:\n",
    "        padding = np.abs(h - new_hw) // 2\n",
    "        y_start = max(0, y_start - padding)\n",
    "        y_end = min(img.shape[0], y_end + padding)\n",
    "        img = img[y_start:y_end, x_start:x_end]\n",
    "    # ------------ 7 ------------\n",
    "    img[img == 1] = 255\n",
    "    img = gaussian(img, sigma = 5, preserve_range = True)\n",
    "    img = img.astype(int)\n",
    "    # ------------ 8 ------------\n",
    "    img = resize(img, (8, 8))\n",
    "    # ------------ 9 ------------\n",
    "    img = rescale_intensity(img, out_range = (0, 16))   \n",
    "    # ------------ Save ------------\n",
    "    imgs.append(img)\n",
    "    label_key = basename(path)[0]\n",
    "    labels.append(label_dict[label_key])\n",
    "    # ------------ Show progress ------------\n",
    "    if i % 200 == 0:\n",
    "        print(f\"{i}/{len(img_paths)}\")\n",
    "        plt.figure(figsize = (1, 1))\n",
    "        plt.imshow(imgs[i], cmap = \"gray\")\n",
    "        plt.show()"
   ]
  },
  {
   "cell_type": "code",
   "execution_count": 7,
   "metadata": {},
   "outputs": [
    {
     "data": {
      "image/png": "[encoded data removed]",
      "text/plain": [
       "<Figure size 288x288 with 6 Axes>"
      ]
     },
     "metadata": {
      "needs_background": "light"
     },
     "output_type": "display_data"
    }
   ],
   "source": [
    "from sklearn import datasets, svm, metrics\n",
    "from sklearn.model_selection import train_test_split\n",
    "from sklearn.metrics import classification_report, confusion_matrix\n",
    "\n",
    "values = [\"A\", \"B\", \"C\", \"D\", \"E\", \"F\", \"G\", \"H\", \"I\", \"J\", \"K\", \"L\",\"M\",\n",
    "          \"N\", \"O\",\"P\", \"Q\", \"R\", \"S\", \"T\", \"U\", \"V\", \"W\", \"X\", \"Y\", \"Z\"]\n",
    "keys = list(range(len(values)))\n",
    "label_dict = dict(zip(keys, values))\n",
    "\n",
    "plt.figure(figsize = (4, 4))\n",
    "for i in range(6):\n",
    "    plt.subplot(2, 3, i + 1)\n",
    "    plt.imshow(imgs[i], cmap = \"gray\")\n",
    "    plt.title(f\"Label: {label_dict[labels[i]]}\")\n",
    "    plt.axis(\"off\")\n",
    "plt.tight_layout()\n",
    "plt.show()"
   ]
  },
  {
   "cell_type": "code",
   "execution_count": 9,
   "metadata": {},
   "outputs": [],
   "source": [
    "# reshape every array in list from (8, 8) to (64,)\n",
    "imgs = [array.reshape(-1) for array in imgs]\n",
    "\n",
    "# convert list to (1635, 64) array\n",
    "imgs = np.asarray(imgs)\n",
    "\n",
    "imgs = np.nan_to_num(imgs)"
   ]
  },
  {
   "cell_type": "code",
   "execution_count": 10,
   "metadata": {},
   "outputs": [
    {
     "name": "stdout",
     "output_type": "stream",
     "text": [
      "              precision    recall  f1-score   support\n",
      "\n",
      "           0       0.67      0.67      0.67        15\n",
      "           1       0.79      0.92      0.85        12\n",
      "           2       1.00      0.80      0.89        10\n",
      "           3       0.89      0.89      0.89         9\n",
      "           4       0.92      0.86      0.89        14\n",
      "           5       0.78      0.78      0.78         9\n",
      "           6       0.92      0.69      0.79        16\n",
      "           7       1.00      0.67      0.80        21\n",
      "           8       0.62      0.83      0.71        12\n",
      "           9       0.94      0.80      0.86        20\n",
      "          10       0.93      0.88      0.90        16\n",
      "          11       0.52      0.80      0.63        15\n",
      "          12       0.55      0.75      0.63         8\n",
      "          13       0.60      0.69      0.64        13\n",
      "          14       0.93      0.88      0.90        16\n",
      "          15       0.93      0.72      0.81        18\n",
      "          16       1.00      0.55      0.71        11\n",
      "          17       0.80      0.67      0.73        12\n",
      "          18       1.00      0.93      0.97        15\n",
      "          19       0.32      1.00      0.48         7\n",
      "          20       0.71      0.62      0.67         8\n",
      "          21       0.82      0.82      0.82        11\n",
      "          22       0.56      0.50      0.53        10\n",
      "          23       0.75      1.00      0.86         9\n",
      "          24       0.91      0.83      0.87        12\n",
      "          25       0.80      0.50      0.62         8\n",
      "\n",
      "    accuracy                           0.77       327\n",
      "   macro avg       0.79      0.77      0.76       327\n",
      "weighted avg       0.82      0.77      0.78       327\n",
      "\n",
      "[[10  1  0  0  0  0  0  0  0  0  0  1  0  0  0  0  0  0  0  1  0  0  1  1\n",
      "   0  0]\n",
      " [ 1 11  0  0  0  0  0  0  0  0  0  0  0  0  0  0  0  0  0  0  0  0  0  0\n",
      "   0  0]\n",
      " [ 0  0  8  0  0  0  0  0  0  0  0  0  0  0  0  0  0  0  0  0  1  0  0  0\n",
      "   0  1]\n",
      " [ 0  0  0  8  0  0  0  0  0  0  0  0  0  0  1  0  0  0  0  0  0  0  0  0\n",
      "   0  0]\n",
      " [ 0  0  0  0 12  0  0  0  1  0  0  0  1  0  0  0  0  0  0  0  0  0  0  0\n",
      "   0  0]\n",
      " [ 0  0  0  0  0  7  0  0  0  0  0  1  0  0  0  0  0  0  0  1  0  0  0  0\n",
      "   0  0]\n",
      " [ 1  0  0  0  0  0 11  0  0  0  0  0  0  2  0  0  0  0  0  2  0  0  0  0\n",
      "   0  0]\n",
      " [ 2  0  0  0  0  0  0 14  1  0  0  1  1  0  0  0  0  0  0  1  0  0  0  1\n",
      "   0  0]\n",
      " [ 0  0  0  0  0  0  0  0 10  1  0  0  0  0  0  0  0  0  0  1  0  0  0  0\n",
      "   0  0]\n",
      " [ 0  0  0  0  0  0  0  0  1 16  0  1  0  0  0  0  0  0  0  1  0  1  0  0\n",
      "   0  0]\n",
      " [ 0  0  0  0  0  0  0  0  0  0 14  0  0  0  0  0  0  0  0  1  0  0  1  0\n",
      "   0  0]\n",
      " [ 0  0  0  0  0  0  0  0  1  0  0 12  0  1  0  0  0  0  0  1  0  0  0  0\n",
      "   0  0]\n",
      " [ 0  0  0  0  0  1  0  0  0  0  0  0  6  0  0  0  0  0  0  1  0  0  0  0\n",
      "   0  0]\n",
      " [ 0  0  0  0  0  0  0  0  0  0  0  0  2  9  0  0  0  0  0  0  0  0  0  1\n",
      "   1  0]\n",
      " [ 0  0  0  1  0  1  0  0  0  0  0  0  0  0 14  0  0  0  0  0  0  0  0  0\n",
      "   0  0]\n",
      " [ 0  0  0  0  0  0  0  0  1  0  0  1  0  0  0 13  0  1  0  1  0  0  1  0\n",
      "   0  0]\n",
      " [ 0  0  0  0  0  0  1  0  0  0  0  1  0  0  0  0  6  1  0  1  1  0  0  0\n",
      "   0  0]\n",
      " [ 1  0  0  0  0  0  0  0  0  0  1  0  0  0  0  0  0  8  0  2  0  0  0  0\n",
      "   0  0]\n",
      " [ 0  1  0  0  0  0  0  0  0  0  0  0  0  0  0  0  0  0 14  0  0  0  0  0\n",
      "   0  0]\n",
      " [ 0  0  0  0  0  0  0  0  0  0  0  0  0  0  0  0  0  0  0  7  0  0  0  0\n",
      "   0  0]\n",
      " [ 0  0  0  0  0  0  0  0  1  0  0  0  0  1  0  0  0  0  0  0  5  0  1  0\n",
      "   0  0]\n",
      " [ 0  0  0  0  0  0  0  0  0  0  0  2  0  0  0  0  0  0  0  0  0  9  0  0\n",
      "   0  0]\n",
      " [ 0  0  0  0  0  0  0  0  0  0  0  1  0  2  0  0  0  0  0  1  0  1  5  0\n",
      "   0  0]\n",
      " [ 0  0  0  0  0  0  0  0  0  0  0  0  0  0  0  0  0  0  0  0  0  0  0  9\n",
      "   0  0]\n",
      " [ 0  0  0  0  0  0  0  0  0  0  0  1  0  0  0  1  0  0  0  0  0  0  0  0\n",
      "  10  0]\n",
      " [ 0  1  0  0  1  0  0  0  0  0  0  1  1  0  0  0  0  0  0  0  0  0  0  0\n",
      "   0  4]]\n"
     ]
    }
   ],
   "source": [
    "train, test, labels_train, labels_test = train_test_split(\n",
    "    imgs,\n",
    "    labels,\n",
    "    test_size = 0.2,\n",
    "    shuffle = True\n",
    ")\n",
    "\n",
    "model = svm.SVC(gamma = 0.001)\n",
    "model.fit(train, labels_train)\n",
    "preds = model.predict(test)\n",
    "\n",
    "print(classification_report(labels_test, preds))\n",
    "print(confusion_matrix(labels_test, preds))"
   ]
  },
  {
   "cell_type": "code",
   "execution_count": 18,
   "metadata": {},
   "outputs": [
    {
     "data": {
      "image/png": "[encoded data removed]",
      "text/plain": [
       "<Figure size 360x216 with 6 Axes>"
      ]
     },
     "metadata": {
      "needs_background": "light"
     },
     "output_type": "display_data"
    }
   ],
   "source": [
    "plt.figure(figsize = (5, 3))\n",
    "for i in range(6):\n",
    "    plt.subplot(2, 3, i + 1)\n",
    "    plt.imshow(test[i, :].reshape((8, 8)), cmap = \"gray\")\n",
    "    plt.title(f\"True: {label_dict[labels_test[i]]} | Pred: {label_dict[preds[i]]}\")\n",
    "    plt.axis(\"off\")\n",
    "plt.tight_layout()\n",
    "plt.show()"
   ]
  }
 ],
 "metadata": {
  "kernelspec": {
   "display_name": "Python 3",
   "language": "python",
   "name": "python3"
  },
  "language_info": {
   "codemirror_mode": {
    "name": "ipython",
    "version": 3
   },
   "file_extension": ".py",
   "mimetype": "text/x-python",
   "name": "python",
   "nbconvert_exporter": "python",
   "pygments_lexer": "ipython3",
   "version": "3.7.4"
  }
 },
 "nbformat": 4,
 "nbformat_minor": 4
}
